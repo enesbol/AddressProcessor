{
 "cells": [
  {
   "cell_type": "code",
   "execution_count": 26,
   "metadata": {},
   "outputs": [],
   "source": [
    "import pandas as pd\n",
    "import regex \n",
    "import warnings\n",
    "warnings.filterwarnings('ignore')"
   ]
  },
  {
   "cell_type": "code",
   "execution_count": 27,
   "metadata": {},
   "outputs": [],
   "source": [
    "yeni = pd.read_csv('TAMAMIYENİ.csv', sep=';')"
   ]
  },
  {
   "cell_type": "code",
   "execution_count": 28,
   "metadata": {},
   "outputs": [],
   "source": [
    "df = pd.read_excel('convertcsv_15.xlsx')\n",
    "first = pd.read_excel('ikincisi.xlsx')\n",
    "third = pd.read_excel('convert_2.xlsx')\n",
    "\n",
    "df = df.rename(columns={'ADRES': 'adres'})\n",
    "first = first.rename(columns={'ADRES': 'adres'})\n",
    "third = third.rename(columns={'ADRES': 'adres'})\n",
    "\n",
    "first = pd.DataFrame(df['adres'])\n",
    "second = pd.DataFrame(df2['adres'])\n",
    "third = pd.DataFrame(third['adres'])\n",
    "\n",
    "# rename first ADRES column to adres\n",
    "processed = pd.concat([first, second, third], ignore_index=True)"
   ]
  },
  {
   "cell_type": "code",
   "execution_count": 29,
   "metadata": {},
   "outputs": [],
   "source": [
    "proc = processed['adres'].tolist()\n",
    "all = yeni['adres'].tolist()"
   ]
  },
  {
   "cell_type": "code",
   "execution_count": 30,
   "metadata": {},
   "outputs": [],
   "source": [
    "# find adresses that are present in all but not in prced \n",
    "not_in_prced = [x for x in all if x not in proc]\n",
    "\n",
    "qf = yeni[yeni['adres'].isin(not_in_prced)]"
   ]
  },
  {
   "cell_type": "code",
   "execution_count": 31,
   "metadata": {},
   "outputs": [
    {
     "data": {
      "text/html": [
       "<div>\n",
       "<style scoped>\n",
       "    .dataframe tbody tr th:only-of-type {\n",
       "        vertical-align: middle;\n",
       "    }\n",
       "\n",
       "    .dataframe tbody tr th {\n",
       "        vertical-align: top;\n",
       "    }\n",
       "\n",
       "    .dataframe thead th {\n",
       "        text-align: right;\n",
       "    }\n",
       "</style>\n",
       "<table border=\"1\" class=\"dataframe\">\n",
       "  <thead>\n",
       "    <tr style=\"text-align: right;\">\n",
       "      <th></th>\n",
       "      <th>kayit_id</th>\n",
       "      <th>konum_il</th>\n",
       "      <th>konum_ilce</th>\n",
       "      <th>konum_mahalle</th>\n",
       "      <th>telefon</th>\n",
       "      <th>adres</th>\n",
       "      <th>isimsoyisim</th>\n",
       "      <th>kaynak</th>\n",
       "    </tr>\n",
       "  </thead>\n",
       "  <tbody>\n",
       "    <tr>\n",
       "      <th>20</th>\n",
       "      <td>22</td>\n",
       "      <td>Hatay</td>\n",
       "      <td>Antakya</td>\n",
       "      <td>Odabaşı Mahallesi</td>\n",
       "      <td>05357643753</td>\n",
       "      <td>Uğur Mumcu Cd. No:66 Eskiocak Eczanesi Binası</td>\n",
       "      <td>Müfit-Çimen-İbrahim İkbal Bayramoğlu</td>\n",
       "      <td>NaN</td>\n",
       "    </tr>\n",
       "    <tr>\n",
       "      <th>55</th>\n",
       "      <td>65</td>\n",
       "      <td>Hatay</td>\n",
       "      <td>Antakya</td>\n",
       "      <td>Odabaşı Mahallesi</td>\n",
       "      <td>05357643753</td>\n",
       "      <td>Uğur Mumcu Cd. No:66 Eskiocak Eczanesi Binası</td>\n",
       "      <td>Müfit-Çimen-İbrahim İkbal Bayramoğlu</td>\n",
       "      <td>NaN</td>\n",
       "    </tr>\n",
       "    <tr>\n",
       "      <th>112</th>\n",
       "      <td>122</td>\n",
       "      <td>Adana</td>\n",
       "      <td>Çukurova</td>\n",
       "      <td>Yurt Mahallesi</td>\n",
       "      <td>NaN</td>\n",
       "      <td>Murat Ekin Sitesi B blok</td>\n",
       "      <td>Tansel, Nisa , Oya Erginkoç</td>\n",
       "      <td>NaN</td>\n",
       "    </tr>\n",
       "    <tr>\n",
       "      <th>115</th>\n",
       "      <td>125</td>\n",
       "      <td>Hatay</td>\n",
       "      <td>Antakya</td>\n",
       "      <td>Ürgen Paşa Mahallesi</td>\n",
       "      <td>NaN</td>\n",
       "      <td>Ürgenpaşa mah. 75. Yıl bulvarı 31030 akparti b...</td>\n",
       "      <td>Ayhan yapıcı</td>\n",
       "      <td>NaN</td>\n",
       "    </tr>\n",
       "    <tr>\n",
       "      <th>132</th>\n",
       "      <td>144</td>\n",
       "      <td>Hatay</td>\n",
       "      <td>Samandağ</td>\n",
       "      <td>Çiğdede Mahallesi</td>\n",
       "      <td>NaN</td>\n",
       "      <td>Ciğdede mahallesi tuna sok. Kahil apt. Kat.2 n...</td>\n",
       "      <td>NaN</td>\n",
       "      <td>NaN</td>\n",
       "    </tr>\n",
       "  </tbody>\n",
       "</table>\n",
       "</div>"
      ],
      "text/plain": [
       "     kayit_id konum_il konum_ilce         konum_mahalle      telefon  \\\n",
       "20         22    Hatay    Antakya     Odabaşı Mahallesi  05357643753   \n",
       "55         65    Hatay    Antakya     Odabaşı Mahallesi  05357643753   \n",
       "112       122    Adana   Çukurova        Yurt Mahallesi          NaN   \n",
       "115       125    Hatay    Antakya  Ürgen Paşa Mahallesi          NaN   \n",
       "132       144    Hatay   Samandağ     Çiğdede Mahallesi          NaN   \n",
       "\n",
       "                                                 adres  \\\n",
       "20       Uğur Mumcu Cd. No:66 Eskiocak Eczanesi Binası   \n",
       "55       Uğur Mumcu Cd. No:66 Eskiocak Eczanesi Binası   \n",
       "112                           Murat Ekin Sitesi B blok   \n",
       "115  Ürgenpaşa mah. 75. Yıl bulvarı 31030 akparti b...   \n",
       "132  Ciğdede mahallesi tuna sok. Kahil apt. Kat.2 n...   \n",
       "\n",
       "                              isimsoyisim kaynak  \n",
       "20   Müfit-Çimen-İbrahim İkbal Bayramoğlu    NaN  \n",
       "55   Müfit-Çimen-İbrahim İkbal Bayramoğlu    NaN  \n",
       "112           Tansel, Nisa , Oya Erginkoç    NaN  \n",
       "115                         Ayhan yapıcı     NaN  \n",
       "132                                   NaN    NaN  "
      ]
     },
     "execution_count": 31,
     "metadata": {},
     "output_type": "execute_result"
    }
   ],
   "source": [
    "qf.head()"
   ]
  },
  {
   "cell_type": "code",
   "execution_count": 32,
   "metadata": {},
   "outputs": [],
   "source": [
    "# drop duplicate konum_il\tkonum_ilce\tkonum_mahalle\ttelefon\tadres\n",
    "qf = qf.drop_duplicates(subset=['konum_il', 'konum_ilce', 'konum_mahalle', 'telefon', 'adres'])"
   ]
  },
  {
   "cell_type": "code",
   "execution_count": 33,
   "metadata": {},
   "outputs": [],
   "source": [
    "GETREST = qf.copy()"
   ]
  },
  {
   "cell_type": "code",
   "execution_count": 34,
   "metadata": {},
   "outputs": [],
   "source": [
    "df = qf"
   ]
  },
  {
   "cell_type": "code",
   "execution_count": 35,
   "metadata": {},
   "outputs": [],
   "source": [
    "# find 1 words comes before apartmanı orr Apartmanı or apartman \n",
    "df['Apartman'] = df['adres'].str.extract(r'(\\w+\\s\\w+\\s(apartmanı|Apartmanı|apartman))', expand=True)[1]\n",
    "# Find words came from apartmanı or Apartmanı or apartman\n",
    "df['Apartman'] = df['adres'].str.extract(r'(\\w+\\s(apartmanı|Apartmanı|apartman))', expand=True)[1]\n",
    "# find word before Apartmanı\n",
    "df['Apartman'] = df['adres'].str.extract(r'(\\w+\\s(Apartmanı))', expand=True)[0]\n",
    "# find word before Apartmanı\n",
    "df['ApartmanX'] = df['adres'].str.extract(r'(\\w+\\s(apartmanı))', expand=True)[0]\n",
    "# apartmani\n",
    "df['ApartmanX_1'] = df['adres'].str.extract(r'(\\w+\\s(apartmani))', expand=True)[0]\n",
    "# find words before apartmanı\n",
    "df['Apartmanx_2'] = df['adres'].str.extract(r'(\\w+\\s(apartmani))', expand=True)[0]\n",
    "# find words before eApartmani\n",
    "df['Apartmanx_3'] = df['adres'].str.extract(r'(\\w+\\s(eApartmani))', expand=True)[0]\n",
    "# APARTMAN\n",
    "df['Apartmanx_4'] = df['adres'].str.extract(r'(\\w+\\s(APARTMAN))', expand=True)[0]\n",
    "# apartman\n",
    "df['Apartmanx_5'] = df['adres'].str.extract(r'(\\w+\\s(apartman))', expand=True)[0]\n",
    "# apt \n",
    "df['Apartmanx_6'] = df['adres'].str.extract(r'(\\w+\\s(apt))', expand=True)[0]\n",
    "# aprtmanı \n",
    "df['Apartmanx_7'] = df['adres'].str.extract(r'(\\w+\\s(aprtmanı))', expand=True)[0]\n",
    "# aprt\n",
    "df['Apartmanx_8'] = df['adres'].str.extract(r'(\\w+\\s(aprt))', expand=True)[0]"
   ]
  },
  {
   "cell_type": "code",
   "execution_count": 36,
   "metadata": {},
   "outputs": [],
   "source": [
    "# konut \n",
    "df['Apartmanx_9'] = df['adres'].str.extract(r'(\\w+\\s(konut))', expand=True)[0]\n",
    "# rezidans\n",
    "df['Apartmanx_10'] = df['adres'].str.extract(r'(\\w+\\s(rezidans))', expand=True)[0]\n",
    "# kooperatif\n",
    "df['Apartmanx_11'] = df['adres'].str.extract(r'(\\w+\\s(kooperatif))', expand=True)[0]\n",
    "# binası\n",
    "df['Apartmanx_12'] = df['adres'].str.extract(r'(\\w+\\s(binası))', expand=True)[0]\n",
    "# Sitesi\n",
    "df['Apartmanx_13'] = df['adres'].str.extract(r'(\\w+\\s(Sitesi))', expand=True)[0]\n",
    "# Site\n",
    "df['Apartmanx_14'] = df['adres'].str.extract(r'(\\w+\\s(Site))', expand=True)[0]\n",
    "# site\n",
    "df['Apartmanx_15'] = df['adres'].str.extract(r'(\\w+\\s(site))', expand=True)[0]\n",
    "# home\n",
    "df['Apartmanx_16'] = df['adres'].str.extract(r'(\\w+\\s(home))', expand=True)[0]\n",
    "# SİTESİ\n",
    "df['Apartmanx_17'] = df['adres'].str.extract(r'(\\w+\\s(SİTESİ))', expand=True)[0]\n",
    "# SITESI\n",
    "df['Apartmanx_18'] = df['adres'].str.extract(r'(\\w+\\s(SITESI))', expand=True)[0]\n",
    "# Apartman\n",
    "df['Apartmanx_19'] = df['adres'].str.extract(r'(\\w+\\s(Apartman))', expand=True)[0]\n",
    "# SİTELERİ\n",
    "df['Apartmanx_20'] = df['adres'].str.extract(r'(\\w+\\s(SİTELERİ))', expand=True)[0]\n",
    "# SİTE\n",
    "df['Apartmanx_21'] = df['adres'].str.extract(r'(\\w+\\s(SİTE))', expand=True)[0]\n",
    "# APT\n",
    "df['Apartmanx_22'] = df['adres'].str.extract(r'(\\w+\\s(APT))', expand=True)[0]\n",
    "# QPT\n",
    "df['Apartmanx_23'] = df['adres'].str.extract(r'(\\w+\\s(QPT))', expand=True)[0]\n",
    "# SPT\n",
    "df['Apartmanx_24'] = df['adres'].str.extract(r'(\\w+\\s(SPT))', expand=True)[0]\n",
    "# toki\n",
    "df['Apartmanx_25'] = df['adres'].str.extract(r'(\\w+\\s(toki))', expand=True)[0]\n",
    "# Apt\n",
    "df['Apartmanx_26'] = df['adres'].str.extract(r'(\\w+\\s(Apt))', expand=True)[0]\n",
    "# Evleri\n",
    "df['Apartmanx_27'] = df['adres'].str.extract(r'(\\w+\\s(Evleri))', expand=True)[0]"
   ]
  },
  {
   "cell_type": "code",
   "execution_count": 37,
   "metadata": {},
   "outputs": [],
   "source": [
    "# Add all columns to one column\n",
    "df['Apartman'] = df['Apartman'].fillna(df['ApartmanX'])\n",
    "df['Apartman'] = df['Apartman'].fillna(df['ApartmanX_1'])\n",
    "df['Apartman'] = df['Apartman'].fillna(df['Apartmanx_2'])\n",
    "df['Apartman'] = df['Apartman'].fillna(df['Apartmanx_3'])\n",
    "df['Apartman'] = df['Apartman'].fillna(df['Apartmanx_4'])\n",
    "df['Apartman'] = df['Apartman'].fillna(df['Apartmanx_5'])\n",
    "df['Apartman'] = df['Apartman'].fillna(df['Apartmanx_6'])\n",
    "df['Apartman'] = df['Apartman'].fillna(df['Apartmanx_7'])\n",
    "df['Apartman'] = df['Apartman'].fillna(df['Apartmanx_8'])\n",
    "df['Apartman'] = df['Apartman'].fillna(df['Apartmanx_9'])\n",
    "df['Apartman'] = df['Apartman'].fillna(df['Apartmanx_10'])\n",
    "df['Apartman'] = df['Apartman'].fillna(df['Apartmanx_11'])\n",
    "df['Apartman'] = df['Apartman'].fillna(df['Apartmanx_12'])\n",
    "df['Apartman'] = df['Apartman'].fillna(df['Apartmanx_13'])\n",
    "df['Apartman'] = df['Apartman'].fillna(df['Apartmanx_14'])\n",
    "df['Apartman'] = df['Apartman'].fillna(df['Apartmanx_15'])\n",
    "df['Apartman'] = df['Apartman'].fillna(df['Apartmanx_16'])\n",
    "df['Apartman'] = df['Apartman'].fillna(df['Apartmanx_17'])\n",
    "df['Apartman'] = df['Apartman'].fillna(df['Apartmanx_18'])\n",
    "df['Apartman'] = df['Apartman'].fillna(df['Apartmanx_19'])\n",
    "df['Apartman'] = df['Apartman'].fillna(df['Apartmanx_20'])\n",
    "df['Apartman'] = df['Apartman'].fillna(df['Apartmanx_21'])\n",
    "df['Apartman'] = df['Apartman'].fillna(df['Apartmanx_22'])\n",
    "df['Apartman'] = df['Apartman'].fillna(df['Apartmanx_23'])\n",
    "df['Apartman'] = df['Apartman'].fillna(df['Apartmanx_24'])\n",
    "df['Apartman'] = df['Apartman'].fillna(df['Apartmanx_25'])\n",
    "df['Apartman'] = df['Apartman'].fillna(df['Apartmanx_26'])\n",
    "df['Apartman'] = df['Apartman'].fillna(df['Apartmanx_27'])"
   ]
  },
  {
   "cell_type": "code",
   "execution_count": 38,
   "metadata": {},
   "outputs": [],
   "source": [
    "df['Sokak'] = df['adres'].str.extract(r'(\\w+\\s(sokak|Sokak|sok|Sok|sok.|Sok.|sokak.|Sokak.|sokak,|Sokak,|sok,|Sok,|sok.,|Sok.,|sokak.,|Sokak.,|sokak,|Sokak,|Sk))', expand=True)[0]"
   ]
  },
  {
   "cell_type": "code",
   "execution_count": 39,
   "metadata": {},
   "outputs": [],
   "source": [
    "df['Sokak_1'] = df['adres'].str.extract(r'(\\w+\\s(sok))', expand=True)[0]\n",
    "df['Sokak_2'] = df['adres'].str.extract(r'(\\w+\\s(Sok))', expand=True)[0]\n",
    "df['Sokak_3'] = df['adres'].str.extract(r'(\\w+\\s(sok.))', expand=True)[0]\n",
    "df['Sokak_4'] = df['adres'].str.extract(r'(\\w+\\s(Sok.))', expand=True)[0]\n",
    "df['Sokak_5'] = df['adres'].str.extract(r'(\\w+\\s(sokak.))', expand=True)[0]\n",
    "df['Sokak_6'] = df['adres'].str.extract(r'(\\w+\\s(Sokak.))', expand=True)[0]\n",
    "df['Sokak_7'] = df['adres'].str.extract(r'(\\w+\\s(Cadde,))', expand=True)[0]\n",
    "df['Sokak_8'] = df['adres'].str.extract(r'(\\w+\\s(cadde,))', expand=True)[0]\n",
    "df['Sokak_9'] = df['adres'].str.extract(r'(\\w+\\s(Bulvar))', expand=True)[0]\n",
    "df['Sokak_10'] = df['adres'].str.extract(r'(\\w+\\s(bulvar))', expand=True)[0]\n",
    "df['Sokak_11'] = df['adres'].str.extract(r'(\\w+\\s(bulvari))', expand=True)[0]\n",
    "df['Sokak_12'] = df['adres'].str.extract(r'(\\w+\\s(bulvarı))', expand=True)[0]\n",
    "df['Sokak_13'] = df['adres'].str.extract(r'(\\w+\\s(caddesi,))', expand=True)[0]\n",
    "df['Sokak_14'] = df['adres'].str.extract(r'(\\w+\\s(Sokak))', expand=True)[0]\n",
    "df['Sokak_15'] = df['adres'].str.extract(r'(\\w+\\s(Caddesi))', expand=True)[0]\n",
    "#  cd.\n",
    "df['Sokak_16'] = df['adres'].str.extract(r'(\\w+\\s(cd.))', expand=True)[0]\n",
    "# caddesi\n",
    "df['Sokak_17'] = df['adres'].str.extract(r'(\\w+\\s(caddesi))', expand=True)[0]\n",
    "# caddesi\n",
    "df['Sokak_18'] = df['adres'].str.extract(r'(\\w+\\s(caddesi.))', expand=True)[0]\n",
    "# Cad.\n",
    "df['Sokak_19'] = df['adres'].str.extract(r'(\\w+\\s(Cad.))', expand=True)[0]\n",
    "# mahallesi\n",
    "df['Sokak_20'] = df['adres'].str.extract(r'(\\w+\\s(mahallesi))', expand=True)[0]\n",
    "# mahalle\n",
    "df['Sokak_21'] = df['adres'].str.extract(r'(\\w+\\s(mahalle))', expand=True)[0]\n",
    "# mah.\n",
    "df['Sokak_22'] = df['adres'].str.extract(r'(\\w+\\s(mah.))', expand=True)[0]\n",
    "# mah\n",
    "df['Sokak_23'] = df['adres'].str.extract(r'(\\w+\\s(mah))', expand=True)[0]\n",
    "# MAH\n",
    "df['Sokak_24'] = df['adres'].str.extract(r'(\\w+\\s(MAH))', expand=True)[0]\n",
    "# MAH.\n",
    "df['Sokak_25'] = df['adres'].str.extract(r'(\\w+\\s(MAH.))', expand=True)[0]\n",
    "# MAHALLESİ\n",
    "df['Sokak_26'] = df['adres'].str.extract(r'(\\w+\\s(MAHALLESİ))', expand=True)[0]\n",
    "# MAHALLELERİ\n",
    "df['Sokak_27'] = df['adres'].str.extract(r'(\\w+\\s(MAHALLELERİ))', expand=True)[0]\n",
    "# SOK \n",
    "df['Sokak_28'] = df['adres'].str.extract(r'(\\w+\\s(SOK))', expand=True)[0]\n",
    "# cad.\n",
    "df['Sokak_29'] = df['adres'].str.extract(r'(\\w+\\s(cad.))', expand=True)[0]\n",
    "# Sokak\n",
    "df['Sokak_30'] = df['adres'].str.extract(r'(\\w+\\s(Sokak))', expand=True)[0]\n",
    "# Mahallesi\n",
    "df['Sokak_31'] = df['adres'].str.extract(r'(\\w+\\s(Mahallesi))', expand=True)[0]\n",
    "# sk.\n",
    "df['Sokak_32'] = df['adres'].str.extract(r'(\\w+\\s(sk.))', expand=True)[0]"
   ]
  },
  {
   "cell_type": "code",
   "execution_count": 40,
   "metadata": {},
   "outputs": [],
   "source": [
    "df['Sokak'] = df['Sokak'].fillna(df['Sokak_30'])\n",
    "df['Sokak'] = df['Sokak'].fillna(df['Sokak_1'])\n",
    "df['Sokak'] = df['Sokak'].fillna(df['Sokak_2'])\n",
    "df['Sokak'] = df['Sokak'].fillna(df['Sokak_3'])\n",
    "df['Sokak'] = df['Sokak'].fillna(df['Sokak_4'])\n",
    "df['Sokak'] = df['Sokak'].fillna(df['Sokak_5'])\n",
    "df['Sokak'] = df['Sokak'].fillna(df['Sokak_6'])\n",
    "df['Sokak'] = df['Sokak'].fillna(df['Sokak_7'])\n",
    "df['Sokak'] = df['Sokak'].fillna(df['Sokak_8'])\n",
    "df['Sokak'] = df['Sokak'].fillna(df['Sokak_9'])\n",
    "df['Sokak'] = df['Sokak'].fillna(df['Sokak_10'])\n",
    "df['Sokak'] = df['Sokak'].fillna(df['Sokak_11'])\n",
    "df['Sokak'] = df['Sokak'].fillna(df['Sokak_12'])\n",
    "df['Sokak'] = df['Sokak'].fillna(df['Sokak_13'])\n",
    "df['Sokak'] = df['Sokak'].fillna(df['Sokak_14'])\n",
    "df['Sokak'] = df['Sokak'].fillna(df['Sokak_15'])\n",
    "df['Sokak'] = df['Sokak'].fillna(df['Sokak_16'])\n",
    "df['Sokak'] = df['Sokak'].fillna(df['Sokak_17'])\n",
    "df['Sokak'] = df['Sokak'].fillna(df['Sokak_18'])\n",
    "df['Sokak'] = df['Sokak'].fillna(df['Sokak_19'])\n",
    "df['Sokak'] = df['Sokak'].fillna(df['Sokak_20'])\n",
    "df['Sokak'] = df['Sokak'].fillna(df['Sokak_21'])\n",
    "df['Sokak'] = df['Sokak'].fillna(df['Sokak_22'])\n",
    "df['Sokak'] = df['Sokak'].fillna(df['Sokak_23'])\n",
    "df['Sokak'] = df['Sokak'].fillna(df['Sokak_24'])\n",
    "df['Sokak'] = df['Sokak'].fillna(df['Sokak_25'])\n",
    "df['Sokak'] = df['Sokak'].fillna(df['Sokak_26'])\n",
    "df['Sokak'] = df['Sokak'].fillna(df['Sokak_27'])\n",
    "df['Sokak'] = df['Sokak'].fillna(df['Sokak_28'])\n",
    "df['Sokak'] = df['Sokak'].fillna(df['Sokak_29'])\n",
    "df['Sokak'] = df['Sokak'].fillna(df['Sokak_31'])\n",
    "df['Sokak'] = df['Sokak'].fillna(df['Sokak_32'])"
   ]
  },
  {
   "cell_type": "code",
   "execution_count": 41,
   "metadata": {},
   "outputs": [],
   "source": [
    "# Apt Apartmanı\n",
    "df['Apartman'] = df['Apartman'].str.replace('Apt','Apartmanı')\n",
    "df['Apartman'] = df['Apartman'].str.replace('Apartman','Apartmanı')\n",
    "# apartmanı Apartmanı\n",
    "df['Apartman'] = df['Apartman'].str.replace('apartmanı','Apartmanı')\n",
    "# site\n",
    "df['Apartman'] = df['Apartman'].str.replace('site','Sitesi')\n",
    "# apt\n",
    "df['Apartman'] = df['Apartman'].str.replace('apt','Apartmanı')\n",
    "# apartman Apartmanı\n",
    "df['Apartman'] = df['Apartman'].str.replace('apartman','Apartmanı')\n",
    "# rezidans\n",
    "df['Apartman'] = df['Apartman'].str.replace('rezidans','Rezidansı')"
   ]
  },
  {
   "cell_type": "code",
   "execution_count": 42,
   "metadata": {},
   "outputs": [],
   "source": [
    "# Cad. Caddesi\n",
    "df['Sokak'] = df['Sokak'].str.replace('Cad.','Caddesi')\n",
    "# Mah. Mahallesi\n",
    "df['Sokak'] = df['Sokak'].str.replace('Mah.','Mahallesi')\n",
    "# Sok\n",
    "df['Sokak'] = df['Sokak'].str.replace('Sok','Sokak')\n",
    "# Sokakak Sokak\n",
    "df['Sokak'] = df['Sokak'].str.replace('Sokakak','Sokak')\n",
    "# Mahallesillesi\n",
    "df['Sokak'] = df['Sokak'].str.replace('Mahallesillesi','Mahallesi')"
   ]
  },
  {
   "cell_type": "code",
   "execution_count": 43,
   "metadata": {},
   "outputs": [],
   "source": [
    "df['Apartman'] = df['Apartman'].str.title()\n",
    "df['Sokak'] = df['Sokak'].str.title()"
   ]
  },
  {
   "cell_type": "code",
   "execution_count": 44,
   "metadata": {},
   "outputs": [],
   "source": [
    "# Caddesiesi, Caddesi\n",
    "df['Sokak'] = df['Sokak'].str.replace('Caddesiesi','Caddesi')\n",
    "# Apartmanıı Apartmanı\n",
    "df['Apartman'] = df['Apartman'].str.replace('Apartmanıı','Apartmanı')"
   ]
  },
  {
   "cell_type": "code",
   "execution_count": 53,
   "metadata": {},
   "outputs": [],
   "source": [
    "# in Finals adres column find string patterns such as 4302. Sokak and add them into Sokak_new column\n",
    "df['Sokak_new'] = df['adres'].str.extract(r'(\\d+\\.\\sSokak)', expand=True)[0]"
   ]
  },
  {
   "cell_type": "code",
   "execution_count": 54,
   "metadata": {},
   "outputs": [],
   "source": [
    "# Fill Sokak with Sokak_new\n",
    "df['Sokak'] = df['Sokak'].fillna(df['Sokak_new'])\n",
    "df['Sokak'] = df['Sokak'].str.replace(\"Caddesi,\",\"Caddesi\")\n",
    "df['Sokak'] = df['Sokak'].str.replace('Caddesiesi','Caddesi')\n",
    "df['Sokak'] = df['Sokak'].str.replace(\"Caddesi,\",\"Caddesi\")\n",
    "df['Apartman'] = df['Apartman'].str.replace('Apartmanıı','Apartmanı')"
   ]
  },
  {
   "cell_type": "code",
   "execution_count": 47,
   "metadata": {},
   "outputs": [],
   "source": [
    "aptsk = df[['Apartman','Sokak']]"
   ]
  },
  {
   "cell_type": "code",
   "execution_count": 48,
   "metadata": {},
   "outputs": [],
   "source": [
    "Final = pd.concat([GETREST,aptsk],axis=1)"
   ]
  },
  {
   "cell_type": "code",
   "execution_count": 51,
   "metadata": {},
   "outputs": [],
   "source": [
    "Final['Sokak'] = Final['Sokak'].str.replace(\"Sk.\",\"Sokak\")"
   ]
  },
  {
   "cell_type": "code",
   "execution_count": 383,
   "metadata": {},
   "outputs": [],
   "source": []
  },
  {
   "cell_type": "code",
   "execution_count": null,
   "metadata": {},
   "outputs": [],
   "source": []
  },
  {
   "cell_type": "code",
   "execution_count": null,
   "metadata": {},
   "outputs": [],
   "source": []
  }
 ],
 "metadata": {
  "kernelspec": {
   "display_name": "base",
   "language": "python",
   "name": "python3"
  },
  "language_info": {
   "codemirror_mode": {
    "name": "ipython",
    "version": 3
   },
   "file_extension": ".py",
   "mimetype": "text/x-python",
   "name": "python",
   "nbconvert_exporter": "python",
   "pygments_lexer": "ipython3",
   "version": "3.9.13"
  },
  "orig_nbformat": 4,
  "vscode": {
   "interpreter": {
    "hash": "83ec7b85d3a25a6df69dd7180066c262f677b7f1f740a511feb54b0bc22f26f9"
   }
  }
 },
 "nbformat": 4,
 "nbformat_minor": 2
}
